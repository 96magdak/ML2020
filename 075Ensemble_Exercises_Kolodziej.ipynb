{
 "cells": [
  {
   "cell_type": "markdown",
   "metadata": {},
   "source": [
    "# Ensemble methods. Exercises\n",
    "\n",
    "\n",
    "In this section we have only two exercise:\n",
    "\n",
    "1. Find the best three classifier in the stacking method using the classifiers from scikit-learn package.\n",
    "\n",
    "2. Build arcing arc-x4 method. "
   ]
  },
  {
   "cell_type": "code",
   "execution_count": 114,
   "metadata": {},
   "outputs": [],
   "source": [
    "%store -r data_set\n",
    "%store -r labels\n",
    "%store -r test_data_set\n",
    "%store -r test_labels\n",
    "%store -r unique_labels"
   ]
  },
  {
   "cell_type": "markdown",
   "metadata": {},
   "source": [
    "## Exercise 1: Find the best three classifier in the stacking method\n",
    "\n",
    "Please use the following classifiers:\n",
    "\n",
    "* Linear regression,\n",
    "* Nearest Neighbors,\n",
    "* Linear SVM,\n",
    "* Decision Tree,\n",
    "* Naive Bayes,\n",
    "* QDA."
   ]
  },
  {
   "cell_type": "code",
   "execution_count": 115,
   "metadata": {},
   "outputs": [],
   "source": [
    "import numpy as np\n",
    "from sklearn.metrics import accuracy_score\n",
    "\n",
    "from sklearn.linear_model import LinearRegression\n",
    "from sklearn.neighbors import KNeighborsClassifier\n",
    "from sklearn.svm import SVC\n",
    "from sklearn.tree import DecisionTreeClassifier\n",
    "from sklearn.naive_bayes import GaussianNB\n",
    "from sklearn.discriminant_analysis import QuadraticDiscriminantAnalysis"
   ]
  },
  {
   "cell_type": "code",
   "execution_count": 116,
   "metadata": {},
   "outputs": [
    {
     "data": {
      "text/plain": [
       "tuple"
      ]
     },
     "execution_count": 116,
     "metadata": {},
     "output_type": "execute_result"
    }
   ],
   "source": [
    "def build_classifiers():\n",
    "    classifiers_list = []\n",
    "    lr = LinearRegression()\n",
    "    knc = KNeighborsClassifier()\n",
    "    svc = SVC()\n",
    "    dtc = DecisionTreeClassifier()\n",
    "    gnb = GaussianNB()\n",
    "    qda = QuadraticDiscriminantAnalysis()\n",
    "    lr.fit(data_set, labels)\n",
    "    knc.fit(data_set, labels)\n",
    "    svc.fit(data_set, labels)\n",
    "    dtc.fit(data_set, labels)\n",
    "    gnb.fit(data_set, labels)\n",
    "    qda.fit(data_set, labels)\n",
    "    classifiers_list.append(lr.fit(data_set, labels))\n",
    "    classifiers_list.append(knc.fit(data_set, labels))\n",
    "    classifiers_list.append(svc.fit(data_set, labels))\n",
    "    classifiers_list.append(dtc.fit(data_set, labels))\n",
    "    classifiers_list.append(gnb.fit(data_set, labels))\n",
    "    classifiers_list.append(qda.fit(data_set, labels))\n",
    "\n",
    "    return lr, knc, svc, dtc, gnb, qda # and here\n",
    "type(build_classifiers())"
   ]
  },
  {
   "cell_type": "code",
   "execution_count": 125,
   "metadata": {},
   "outputs": [],
   "source": [
    "#taking all possible 3-element sets of classifiers from a set of 6 classifiers\n",
    "from itertools import *\n",
    "my_combinations = list(combinations(build_classifiers(),3))"
   ]
  },
  {
   "cell_type": "code",
   "execution_count": 128,
   "metadata": {},
   "outputs": [],
   "source": [
    "my_comb_names = list(combinations(['lr', 'knc', 'svc', 'dtc', 'gnb', 'qda'], 3))"
   ]
  },
  {
   "cell_type": "code",
   "execution_count": 99,
   "metadata": {},
   "outputs": [],
   "source": [
    "#I added a variable st_class which is the classifier I am using as a stacked classifier\n",
    "def build_stacked_classifier(classifiers,st_class):\n",
    "    output = []\n",
    "    for classifier in classifiers:\n",
    "        output.append(classifier.predict(data_set))\n",
    "    output = np.array(output).reshape((130,3))\n",
    "    #output = np.array(output).reshape((130,2))\n",
    "    \n",
    "    # stacked classifier part:\n",
    "    stacked_classifier = st_class\n",
    "    stacked_classifier.fit(output.reshape((130,3)), labels.reshape((130,)))\n",
    "    #stacked_classifier.fit(output.reshape((130,2)), labels.reshape((130,)))\n",
    "    test_set = []\n",
    "    for classifier in classifiers:\n",
    "        test_set.append(classifier.predict(test_data_set))\n",
    "    test_set = np.array(test_set).reshape((len(test_set[0]),3))\n",
    "    predicted = stacked_classifier.predict(test_set)\n",
    "    return predicted"
   ]
  },
  {
   "cell_type": "code",
   "execution_count": 131,
   "metadata": {},
   "outputs": [
    {
     "name": "stderr",
     "output_type": "stream",
     "text": [
      "/home/magdalena/anaconda3/lib/python3.7/site-packages/sklearn/discriminant_analysis.py:691: UserWarning: Variables are collinear\n",
      "  warnings.warn(\"Variables are collinear\")\n",
      "/home/magdalena/anaconda3/lib/python3.7/site-packages/sklearn/discriminant_analysis.py:691: UserWarning: Variables are collinear\n",
      "  warnings.warn(\"Variables are collinear\")\n",
      "/home/magdalena/anaconda3/lib/python3.7/site-packages/sklearn/discriminant_analysis.py:691: UserWarning: Variables are collinear\n",
      "  warnings.warn(\"Variables are collinear\")\n",
      "/home/magdalena/anaconda3/lib/python3.7/site-packages/sklearn/discriminant_analysis.py:691: UserWarning: Variables are collinear\n",
      "  warnings.warn(\"Variables are collinear\")\n",
      "/home/magdalena/anaconda3/lib/python3.7/site-packages/sklearn/discriminant_analysis.py:691: UserWarning: Variables are collinear\n",
      "  warnings.warn(\"Variables are collinear\")\n",
      "/home/magdalena/anaconda3/lib/python3.7/site-packages/sklearn/discriminant_analysis.py:691: UserWarning: Variables are collinear\n",
      "  warnings.warn(\"Variables are collinear\")\n",
      "/home/magdalena/anaconda3/lib/python3.7/site-packages/sklearn/discriminant_analysis.py:691: UserWarning: Variables are collinear\n",
      "  warnings.warn(\"Variables are collinear\")\n",
      "/home/magdalena/anaconda3/lib/python3.7/site-packages/sklearn/discriminant_analysis.py:691: UserWarning: Variables are collinear\n",
      "  warnings.warn(\"Variables are collinear\")\n",
      "/home/magdalena/anaconda3/lib/python3.7/site-packages/sklearn/discriminant_analysis.py:691: UserWarning: Variables are collinear\n",
      "  warnings.warn(\"Variables are collinear\")\n"
     ]
    }
   ],
   "source": [
    "knc = KNeighborsClassifier()\n",
    "svc = SVC()\n",
    "dtc = DecisionTreeClassifier()\n",
    "gnb = GaussianNB()\n",
    "qda = QuadraticDiscriminantAnalysis()\n",
    "tab_all = []\n",
    "for c in [svc, dtc, qda]:\n",
    "    tab_mid = []\n",
    "    for comb in my_combinations:\n",
    "        predicted = build_stacked_classifier(comb,c)\n",
    "        accuracy = accuracy_score(test_labels, predicted)\n",
    "        tab_mid.append(accuracy)\n",
    "    tab_all.append(tab_mid)"
   ]
  },
  {
   "cell_type": "code",
   "execution_count": 133,
   "metadata": {},
   "outputs": [
    {
     "data": {
      "text/html": [
       "<div>\n",
       "<style scoped>\n",
       "    .dataframe tbody tr th:only-of-type {\n",
       "        vertical-align: middle;\n",
       "    }\n",
       "\n",
       "    .dataframe tbody tr th {\n",
       "        vertical-align: top;\n",
       "    }\n",
       "\n",
       "    .dataframe thead th {\n",
       "        text-align: right;\n",
       "    }\n",
       "</style>\n",
       "<table border=\"1\" class=\"dataframe\">\n",
       "  <thead>\n",
       "    <tr style=\"text-align: right;\">\n",
       "      <th></th>\n",
       "      <th>svc</th>\n",
       "      <th>dtc</th>\n",
       "      <th>qda</th>\n",
       "    </tr>\n",
       "  </thead>\n",
       "  <tbody>\n",
       "    <tr>\n",
       "      <th>(lr, knc, svc)</th>\n",
       "      <td>0.00</td>\n",
       "      <td>0.10</td>\n",
       "      <td>0.30</td>\n",
       "    </tr>\n",
       "    <tr>\n",
       "      <th>(lr, knc, dtc)</th>\n",
       "      <td>0.75</td>\n",
       "      <td>0.70</td>\n",
       "      <td>0.65</td>\n",
       "    </tr>\n",
       "    <tr>\n",
       "      <th>(lr, knc, gnb)</th>\n",
       "      <td>0.70</td>\n",
       "      <td>0.70</td>\n",
       "      <td>0.95</td>\n",
       "    </tr>\n",
       "    <tr>\n",
       "      <th>(lr, knc, qda)</th>\n",
       "      <td>0.75</td>\n",
       "      <td>0.75</td>\n",
       "      <td>0.80</td>\n",
       "    </tr>\n",
       "    <tr>\n",
       "      <th>(lr, svc, dtc)</th>\n",
       "      <td>0.60</td>\n",
       "      <td>0.60</td>\n",
       "      <td>0.55</td>\n",
       "    </tr>\n",
       "    <tr>\n",
       "      <th>(lr, svc, gnb)</th>\n",
       "      <td>0.60</td>\n",
       "      <td>0.60</td>\n",
       "      <td>0.90</td>\n",
       "    </tr>\n",
       "    <tr>\n",
       "      <th>(lr, svc, qda)</th>\n",
       "      <td>0.65</td>\n",
       "      <td>0.60</td>\n",
       "      <td>0.70</td>\n",
       "    </tr>\n",
       "    <tr>\n",
       "      <th>(lr, dtc, gnb)</th>\n",
       "      <td>0.00</td>\n",
       "      <td>0.15</td>\n",
       "      <td>0.40</td>\n",
       "    </tr>\n",
       "    <tr>\n",
       "      <th>(lr, dtc, qda)</th>\n",
       "      <td>0.65</td>\n",
       "      <td>0.75</td>\n",
       "      <td>0.20</td>\n",
       "    </tr>\n",
       "    <tr>\n",
       "      <th>(lr, gnb, qda)</th>\n",
       "      <td>0.65</td>\n",
       "      <td>0.60</td>\n",
       "      <td>0.65</td>\n",
       "    </tr>\n",
       "    <tr>\n",
       "      <th>(knc, svc, dtc)</th>\n",
       "      <td>0.85</td>\n",
       "      <td>0.85</td>\n",
       "      <td>0.90</td>\n",
       "    </tr>\n",
       "    <tr>\n",
       "      <th>(knc, svc, gnb)</th>\n",
       "      <td>0.00</td>\n",
       "      <td>0.85</td>\n",
       "      <td>0.90</td>\n",
       "    </tr>\n",
       "    <tr>\n",
       "      <th>(knc, svc, qda)</th>\n",
       "      <td>0.85</td>\n",
       "      <td>0.85</td>\n",
       "      <td>0.85</td>\n",
       "    </tr>\n",
       "    <tr>\n",
       "      <th>(knc, dtc, gnb)</th>\n",
       "      <td>0.00</td>\n",
       "      <td>0.00</td>\n",
       "      <td>0.00</td>\n",
       "    </tr>\n",
       "    <tr>\n",
       "      <th>(knc, dtc, qda)</th>\n",
       "      <td>0.90</td>\n",
       "      <td>0.85</td>\n",
       "      <td>0.00</td>\n",
       "    </tr>\n",
       "    <tr>\n",
       "      <th>(knc, gnb, qda)</th>\n",
       "      <td>0.85</td>\n",
       "      <td>0.85</td>\n",
       "      <td>0.85</td>\n",
       "    </tr>\n",
       "    <tr>\n",
       "      <th>(svc, dtc, gnb)</th>\n",
       "      <td>0.00</td>\n",
       "      <td>0.05</td>\n",
       "      <td>0.00</td>\n",
       "    </tr>\n",
       "    <tr>\n",
       "      <th>(svc, dtc, qda)</th>\n",
       "      <td>0.85</td>\n",
       "      <td>0.75</td>\n",
       "      <td>0.00</td>\n",
       "    </tr>\n",
       "    <tr>\n",
       "      <th>(svc, gnb, qda)</th>\n",
       "      <td>0.75</td>\n",
       "      <td>0.75</td>\n",
       "      <td>0.75</td>\n",
       "    </tr>\n",
       "    <tr>\n",
       "      <th>(dtc, gnb, qda)</th>\n",
       "      <td>0.80</td>\n",
       "      <td>0.85</td>\n",
       "      <td>0.85</td>\n",
       "    </tr>\n",
       "  </tbody>\n",
       "</table>\n",
       "</div>"
      ],
      "text/plain": [
       "                  svc   dtc   qda\n",
       "(lr, knc, svc)   0.00  0.10  0.30\n",
       "(lr, knc, dtc)   0.75  0.70  0.65\n",
       "(lr, knc, gnb)   0.70  0.70  0.95\n",
       "(lr, knc, qda)   0.75  0.75  0.80\n",
       "(lr, svc, dtc)   0.60  0.60  0.55\n",
       "(lr, svc, gnb)   0.60  0.60  0.90\n",
       "(lr, svc, qda)   0.65  0.60  0.70\n",
       "(lr, dtc, gnb)   0.00  0.15  0.40\n",
       "(lr, dtc, qda)   0.65  0.75  0.20\n",
       "(lr, gnb, qda)   0.65  0.60  0.65\n",
       "(knc, svc, dtc)  0.85  0.85  0.90\n",
       "(knc, svc, gnb)  0.00  0.85  0.90\n",
       "(knc, svc, qda)  0.85  0.85  0.85\n",
       "(knc, dtc, gnb)  0.00  0.00  0.00\n",
       "(knc, dtc, qda)  0.90  0.85  0.00\n",
       "(knc, gnb, qda)  0.85  0.85  0.85\n",
       "(svc, dtc, gnb)  0.00  0.05  0.00\n",
       "(svc, dtc, qda)  0.85  0.75  0.00\n",
       "(svc, gnb, qda)  0.75  0.75  0.75\n",
       "(dtc, gnb, qda)  0.80  0.85  0.85"
      ]
     },
     "execution_count": 133,
     "metadata": {},
     "output_type": "execute_result"
    }
   ],
   "source": [
    "#final table: accuracy scores for all combinations of classifiers, \n",
    "#with svc, dtc or qda used as a stacked classifier.\n",
    "import pandas as pd\n",
    "df = pd.DataFrame(tab_all).T\n",
    "df.columns = [ 'svc', 'dtc', 'qda']\n",
    "df.index = my_comb_names\n",
    "df"
   ]
  },
  {
   "cell_type": "code",
   "execution_count": 137,
   "metadata": {},
   "outputs": [
    {
     "data": {
      "text/plain": [
       "svc    0.90\n",
       "dtc    0.85\n",
       "qda    0.95\n",
       "dtype: float64"
      ]
     },
     "execution_count": 137,
     "metadata": {},
     "output_type": "execute_result"
    }
   ],
   "source": [
    "df.max()"
   ]
  },
  {
   "cell_type": "code",
   "execution_count": 138,
   "metadata": {},
   "outputs": [
    {
     "data": {
      "text/plain": [
       "('lr', 'knc', 'gnb')"
      ]
     },
     "execution_count": 138,
     "metadata": {},
     "output_type": "execute_result"
    }
   ],
   "source": [
    "df[\"qda\"].idxmax() #best combination of classifiers, with stacked classifier qda"
   ]
  },
  {
   "cell_type": "code",
   "execution_count": 140,
   "metadata": {},
   "outputs": [
    {
     "data": {
      "text/plain": [
       "0.95"
      ]
     },
     "execution_count": 140,
     "metadata": {},
     "output_type": "execute_result"
    }
   ],
   "source": [
    "df[\"qda\"].max() #best combination of classifiers accuracy"
   ]
  },
  {
   "cell_type": "markdown",
   "metadata": {},
   "source": [
    "## Exercise 2: \n",
    "\n",
    "Use the boosting method and change the code to fullfilt the following requirements:\n",
    "\n",
    "* the weights should be calculated as:\n",
    "$w_{n}^{(t+1)}=\\frac{1+ I(y_{n}\\neq h_{t}(x_{n})}{\\sum_{i=1}^{N}1+I(y_{n}\\neq h_{t}(x_{n})}$,\n",
    "* the prediction is done with a voting method."
   ]
  },
  {
   "cell_type": "code",
   "execution_count": 185,
   "metadata": {},
   "outputs": [],
   "source": [
    "import numpy as np\n",
    "from sklearn.tree import DecisionTreeClassifier\n",
    "\n",
    "# prepare data set\n",
    "\n",
    "def generate_data(sample_number, feature_number, label_number):\n",
    "    data_set = np.random.random_sample((sample_number, feature_number))\n",
    "    labels = np.random.choice(label_number, sample_number)\n",
    "    return data_set, labels\n",
    "\n",
    "labels = 2\n",
    "dimension = 2\n",
    "test_set_size = 1000\n",
    "train_set_size = 5000\n",
    "train_set, train_labels = generate_data(train_set_size, dimension, labels)\n",
    "test_set, test_labels = generate_data(test_set_size, dimension, labels)\n",
    "\n",
    "# init weights\n",
    "number_of_iterations = 10\n",
    "weights = np.ones((test_set_size,)) / test_set_size\n",
    "\n",
    "\n",
    "def train_model(classifier, weights):\n",
    "    return classifier.fit(X=test_set, y=test_labels, sample_weight=weights)\n",
    "\n",
    "def calculate_error(model):\n",
    "    predicted = model.predict(test_set)\n",
    "    I=calculate_accuracy_vector(predicted, test_labels)\n",
    "    Z=np.sum(I)\n",
    "    return (1+Z)/1.0\n",
    "\n",
    "\n",
    "def calculate_accuracy_vector(predicted, labels):\n",
    "    result = []\n",
    "    for i in range(len(predicted)):\n",
    "        if predicted[i] == labels[i]:\n",
    "            result.append(0)\n",
    "        else:\n",
    "            result.append(1)\n",
    "    return result"
   ]
  },
  {
   "cell_type": "markdown",
   "metadata": {},
   "source": [
    "Fill the two functions below:"
   ]
  },
  {
   "cell_type": "markdown",
   "metadata": {},
   "source": [
    "Calculate the new weights $w_{n}^{(t+1)}=\\frac{w_{n}^{(t)}\\exp{\\alpha_{t}I(y_{n}\\neq h_{t}(x_{n}))}}{Z_{t}}$:\n",
    "\n",
    "\n",
    "* the weights should be calculated as:\n",
    "$w_{n}^{(t+1)}=\\frac{1+ I(y_{n}\\neq h_{t}(x_{n})}{\\sum_{i=1}^{N}1+I(y_{n}\\neq h_{t}(x_{n})}$,"
   ]
  },
  {
   "cell_type": "code",
   "execution_count": 186,
   "metadata": {},
   "outputs": [],
   "source": [
    "def set_new_weights(model): \n",
    "    new_weights = calculate_accuracy_vector(model.predict(test_set), test_labels)\n",
    "    for i in new_weights:\n",
    "        i = i+1.0\n",
    "    Zt = np.sum(new_weights)\n",
    "    return new_weights / Zt\n"
   ]
  },
  {
   "cell_type": "markdown",
   "metadata": {},
   "source": [
    "Train the classifier with the code below:"
   ]
  },
  {
   "cell_type": "code",
   "execution_count": 187,
   "metadata": {},
   "outputs": [
    {
     "name": "stdout",
     "output_type": "stream",
     "text": [
      "[0.         0.00195695 0.00195695 0.         0.00195695 0.00195695\n",
      " 0.00195695 0.         0.00195695 0.         0.00195695 0.00195695\n",
      " 0.00195695 0.         0.00195695 0.00195695 0.         0.00195695\n",
      " 0.         0.00195695 0.00195695 0.         0.         0.\n",
      " 0.         0.         0.00195695 0.00195695 0.         0.00195695\n",
      " 0.         0.         0.         0.         0.00195695 0.00195695\n",
      " 0.00195695 0.         0.00195695 0.00195695 0.         0.\n",
      " 0.00195695 0.00195695 0.         0.00195695 0.00195695 0.00195695\n",
      " 0.         0.00195695 0.         0.00195695 0.         0.00195695\n",
      " 0.         0.00195695 0.00195695 0.00195695 0.         0.00195695\n",
      " 0.         0.         0.00195695 0.         0.00195695 0.\n",
      " 0.         0.00195695 0.00195695 0.         0.00195695 0.00195695\n",
      " 0.         0.         0.         0.         0.00195695 0.00195695\n",
      " 0.         0.00195695 0.         0.         0.         0.\n",
      " 0.00195695 0.         0.00195695 0.00195695 0.00195695 0.00195695\n",
      " 0.         0.00195695 0.         0.         0.         0.00195695\n",
      " 0.         0.         0.00195695 0.00195695 0.         0.00195695\n",
      " 0.         0.         0.         0.00195695 0.         0.\n",
      " 0.         0.         0.00195695 0.         0.         0.\n",
      " 0.         0.00195695 0.         0.00195695 0.         0.\n",
      " 0.         0.00195695 0.         0.         0.         0.\n",
      " 0.         0.         0.00195695 0.         0.00195695 0.\n",
      " 0.         0.00195695 0.         0.00195695 0.         0.\n",
      " 0.         0.         0.00195695 0.00195695 0.         0.\n",
      " 0.00195695 0.         0.00195695 0.00195695 0.00195695 0.\n",
      " 0.00195695 0.00195695 0.         0.00195695 0.00195695 0.00195695\n",
      " 0.         0.00195695 0.00195695 0.00195695 0.         0.\n",
      " 0.         0.         0.00195695 0.00195695 0.         0.\n",
      " 0.00195695 0.         0.         0.00195695 0.00195695 0.\n",
      " 0.00195695 0.00195695 0.00195695 0.00195695 0.00195695 0.\n",
      " 0.00195695 0.00195695 0.00195695 0.         0.00195695 0.00195695\n",
      " 0.00195695 0.         0.         0.00195695 0.00195695 0.00195695\n",
      " 0.         0.00195695 0.         0.         0.00195695 0.00195695\n",
      " 0.         0.00195695 0.         0.00195695 0.00195695 0.\n",
      " 0.00195695 0.         0.00195695 0.00195695 0.00195695 0.00195695\n",
      " 0.00195695 0.         0.         0.00195695 0.00195695 0.\n",
      " 0.         0.00195695 0.00195695 0.00195695 0.         0.00195695\n",
      " 0.         0.         0.00195695 0.         0.00195695 0.00195695\n",
      " 0.         0.00195695 0.         0.         0.         0.\n",
      " 0.00195695 0.00195695 0.00195695 0.00195695 0.         0.\n",
      " 0.00195695 0.         0.00195695 0.00195695 0.00195695 0.00195695\n",
      " 0.00195695 0.00195695 0.00195695 0.         0.00195695 0.00195695\n",
      " 0.         0.00195695 0.00195695 0.         0.00195695 0.\n",
      " 0.00195695 0.00195695 0.00195695 0.00195695 0.         0.00195695\n",
      " 0.         0.         0.         0.         0.         0.00195695\n",
      " 0.00195695 0.         0.00195695 0.00195695 0.00195695 0.\n",
      " 0.         0.00195695 0.00195695 0.00195695 0.00195695 0.\n",
      " 0.         0.00195695 0.         0.00195695 0.         0.\n",
      " 0.         0.00195695 0.         0.00195695 0.         0.\n",
      " 0.         0.00195695 0.00195695 0.00195695 0.         0.00195695\n",
      " 0.00195695 0.         0.         0.         0.00195695 0.\n",
      " 0.         0.00195695 0.00195695 0.00195695 0.         0.00195695\n",
      " 0.00195695 0.         0.         0.00195695 0.00195695 0.\n",
      " 0.         0.         0.         0.         0.00195695 0.00195695\n",
      " 0.         0.00195695 0.         0.00195695 0.00195695 0.00195695\n",
      " 0.00195695 0.00195695 0.00195695 0.         0.00195695 0.00195695\n",
      " 0.00195695 0.         0.00195695 0.         0.         0.00195695\n",
      " 0.         0.         0.         0.         0.         0.\n",
      " 0.         0.00195695 0.00195695 0.         0.00195695 0.00195695\n",
      " 0.00195695 0.         0.         0.         0.00195695 0.\n",
      " 0.00195695 0.00195695 0.         0.00195695 0.00195695 0.\n",
      " 0.         0.         0.00195695 0.00195695 0.00195695 0.\n",
      " 0.         0.00195695 0.00195695 0.         0.00195695 0.00195695\n",
      " 0.00195695 0.         0.00195695 0.00195695 0.00195695 0.00195695\n",
      " 0.00195695 0.00195695 0.         0.         0.00195695 0.00195695\n",
      " 0.         0.00195695 0.         0.00195695 0.00195695 0.00195695\n",
      " 0.         0.00195695 0.00195695 0.         0.         0.00195695\n",
      " 0.         0.00195695 0.         0.00195695 0.         0.\n",
      " 0.         0.00195695 0.00195695 0.         0.00195695 0.\n",
      " 0.00195695 0.         0.         0.         0.         0.\n",
      " 0.         0.         0.         0.00195695 0.         0.\n",
      " 0.         0.         0.00195695 0.00195695 0.         0.00195695\n",
      " 0.00195695 0.00195695 0.00195695 0.         0.         0.00195695\n",
      " 0.00195695 0.         0.         0.         0.         0.\n",
      " 0.         0.00195695 0.00195695 0.00195695 0.00195695 0.\n",
      " 0.00195695 0.00195695 0.         0.00195695 0.         0.\n",
      " 0.         0.00195695 0.         0.00195695 0.00195695 0.\n",
      " 0.00195695 0.         0.         0.00195695 0.         0.\n",
      " 0.         0.         0.         0.00195695 0.00195695 0.00195695\n",
      " 0.         0.         0.         0.00195695 0.00195695 0.\n",
      " 0.         0.00195695 0.         0.00195695 0.         0.00195695\n",
      " 0.00195695 0.         0.00195695 0.00195695 0.         0.00195695\n",
      " 0.         0.         0.         0.00195695 0.         0.\n",
      " 0.         0.         0.00195695 0.         0.         0.00195695\n",
      " 0.00195695 0.         0.         0.         0.         0.00195695\n",
      " 0.00195695 0.         0.00195695 0.         0.         0.\n",
      " 0.00195695 0.00195695 0.00195695 0.00195695 0.00195695 0.\n",
      " 0.00195695 0.         0.00195695 0.00195695 0.00195695 0.\n",
      " 0.00195695 0.00195695 0.         0.         0.00195695 0.00195695\n",
      " 0.00195695 0.         0.         0.         0.00195695 0.\n",
      " 0.         0.00195695 0.         0.         0.00195695 0.\n",
      " 0.00195695 0.         0.         0.         0.00195695 0.00195695\n",
      " 0.00195695 0.         0.         0.         0.00195695 0.00195695\n",
      " 0.00195695 0.00195695 0.00195695 0.         0.00195695 0.00195695\n",
      " 0.         0.         0.         0.00195695 0.00195695 0.\n",
      " 0.00195695 0.00195695 0.         0.         0.00195695 0.00195695\n",
      " 0.         0.         0.         0.00195695 0.         0.00195695\n",
      " 0.         0.00195695 0.00195695 0.         0.00195695 0.00195695\n",
      " 0.         0.00195695 0.00195695 0.00195695 0.00195695 0.\n",
      " 0.         0.         0.00195695 0.         0.00195695 0.\n",
      " 0.         0.00195695 0.00195695 0.         0.         0.00195695\n",
      " 0.         0.         0.00195695 0.         0.00195695 0.00195695\n",
      " 0.00195695 0.         0.         0.00195695 0.         0.\n",
      " 0.00195695 0.00195695 0.         0.00195695 0.         0.\n",
      " 0.00195695 0.         0.00195695 0.         0.         0.\n",
      " 0.         0.         0.         0.         0.00195695 0.00195695\n",
      " 0.         0.00195695 0.00195695 0.00195695 0.00195695 0.\n",
      " 0.00195695 0.         0.00195695 0.         0.00195695 0.\n",
      " 0.00195695 0.         0.00195695 0.         0.00195695 0.\n",
      " 0.         0.00195695 0.         0.00195695 0.00195695 0.00195695\n",
      " 0.00195695 0.00195695 0.         0.         0.00195695 0.\n",
      " 0.00195695 0.00195695 0.00195695 0.         0.         0.00195695\n",
      " 0.         0.00195695 0.00195695 0.00195695 0.         0.\n",
      " 0.00195695 0.         0.00195695 0.         0.00195695 0.\n",
      " 0.00195695 0.         0.00195695 0.         0.         0.00195695\n",
      " 0.00195695 0.00195695 0.00195695 0.00195695 0.00195695 0.\n",
      " 0.         0.00195695 0.00195695 0.00195695 0.00195695 0.\n",
      " 0.         0.00195695 0.00195695 0.         0.         0.\n",
      " 0.00195695 0.00195695 0.         0.00195695 0.         0.00195695\n",
      " 0.00195695 0.00195695 0.00195695 0.00195695 0.         0.00195695\n",
      " 0.         0.00195695 0.00195695 0.         0.         0.00195695\n",
      " 0.         0.00195695 0.00195695 0.00195695 0.00195695 0.\n",
      " 0.         0.         0.         0.00195695 0.00195695 0.00195695\n",
      " 0.         0.         0.         0.         0.         0.00195695\n",
      " 0.         0.00195695 0.00195695 0.         0.00195695 0.\n",
      " 0.         0.00195695 0.00195695 0.00195695 0.         0.\n",
      " 0.         0.         0.         0.         0.         0.00195695\n",
      " 0.         0.00195695 0.00195695 0.         0.         0.\n",
      " 0.         0.00195695 0.00195695 0.         0.         0.\n",
      " 0.         0.00195695 0.         0.00195695 0.         0.\n",
      " 0.         0.00195695 0.00195695 0.         0.00195695 0.00195695\n",
      " 0.         0.         0.00195695 0.         0.         0.00195695\n",
      " 0.         0.         0.         0.         0.         0.00195695\n",
      " 0.00195695 0.00195695 0.00195695 0.00195695 0.00195695 0.00195695\n",
      " 0.00195695 0.00195695 0.00195695 0.         0.00195695 0.\n",
      " 0.         0.00195695 0.         0.00195695 0.00195695 0.\n",
      " 0.00195695 0.         0.         0.00195695 0.00195695 0.00195695\n",
      " 0.         0.         0.00195695 0.         0.00195695 0.00195695\n",
      " 0.00195695 0.00195695 0.         0.00195695 0.         0.\n",
      " 0.00195695 0.         0.         0.00195695 0.         0.00195695\n",
      " 0.         0.         0.00195695 0.00195695 0.         0.\n",
      " 0.         0.         0.         0.00195695 0.         0.\n",
      " 0.         0.         0.00195695 0.00195695 0.         0.\n",
      " 0.00195695 0.00195695 0.         0.         0.         0.\n",
      " 0.         0.         0.00195695 0.00195695 0.         0.00195695\n",
      " 0.00195695 0.00195695 0.         0.00195695 0.         0.00195695\n",
      " 0.00195695 0.00195695 0.00195695 0.00195695 0.00195695 0.00195695\n",
      " 0.00195695 0.         0.00195695 0.00195695 0.00195695 0.\n",
      " 0.         0.00195695 0.         0.         0.00195695 0.00195695\n",
      " 0.00195695 0.         0.         0.         0.         0.\n",
      " 0.00195695 0.         0.00195695 0.00195695 0.00195695 0.\n",
      " 0.         0.         0.00195695 0.00195695 0.00195695 0.00195695\n",
      " 0.         0.00195695 0.         0.00195695 0.00195695 0.00195695\n",
      " 0.00195695 0.00195695 0.00195695 0.00195695 0.00195695 0.\n",
      " 0.         0.00195695 0.         0.         0.         0.00195695\n",
      " 0.00195695 0.         0.00195695 0.00195695 0.00195695 0.00195695\n",
      " 0.00195695 0.00195695 0.00195695 0.00195695 0.         0.00195695\n",
      " 0.00195695 0.         0.00195695 0.00195695 0.00195695 0.00195695\n",
      " 0.00195695 0.         0.00195695 0.00195695 0.         0.\n",
      " 0.00195695 0.         0.         0.         0.         0.00195695\n",
      " 0.00195695 0.00195695 0.         0.         0.00195695 0.\n",
      " 0.00195695 0.00195695 0.00195695 0.         0.00195695 0.00195695\n",
      " 0.         0.         0.00195695 0.00195695 0.00195695 0.\n",
      " 0.         0.00195695 0.         0.         0.         0.\n",
      " 0.         0.00195695 0.         0.         0.00195695 0.\n",
      " 0.         0.         0.         0.00195695 0.00195695 0.00195695\n",
      " 0.         0.         0.00195695 0.        ]\n"
     ]
    }
   ],
   "source": [
    "classifier = DecisionTreeClassifier(max_depth=1, random_state=1)\n",
    "classifier.fit(X=train_set, y=train_labels)\n",
    "alphas = []\n",
    "classifiers = []\n",
    "for iteration in range(number_of_iterations):\n",
    "    model = train_model(classifier, weights)\n",
    "    weights = set_new_weights(model)\n",
    "    classifiers.append(model)\n",
    "\n",
    "print(weights)\n",
    "\n",
    "\n",
    "validate_x, validate_label = generate_data(1, dimension, labels)"
   ]
  },
  {
   "cell_type": "markdown",
   "metadata": {},
   "source": [
    "Set the validation data set:"
   ]
  },
  {
   "cell_type": "code",
   "execution_count": 194,
   "metadata": {},
   "outputs": [],
   "source": [
    "validate_x, validate_label = generate_data(1, dimension, labels)"
   ]
  },
  {
   "cell_type": "markdown",
   "metadata": {},
   "source": [
    "Fill the prediction code:"
   ]
  },
  {
   "cell_type": "code",
   "execution_count": 199,
   "metadata": {},
   "outputs": [],
   "source": [
    "def get_prediction(x):\n",
    "    predictions = []\n",
    "    for i in range(len(classifiers)):\n",
    "        predicted = classifiers[i].predict(x)\n",
    "        predictions.append(predicted)\n",
    "    scores = [0.0, 0.0]  \n",
    "    for prediction, idx_clf in enumerate(predictions):\n",
    "        if prediction == 0:\n",
    "            scores[0] = scores[0] + weights[idx_clf]\n",
    "        else:\n",
    "            scores[1] = scores[1] + weights[idx_clf]\n",
    "    if scores[0] >= scores[1]:\n",
    "        return 0\n",
    "    else:\n",
    "        return 1"
   ]
  },
  {
   "cell_type": "markdown",
   "metadata": {},
   "source": [
    "Test it:"
   ]
  },
  {
   "cell_type": "code",
   "execution_count": 200,
   "metadata": {},
   "outputs": [
    {
     "name": "stdout",
     "output_type": "stream",
     "text": [
      "0\n"
     ]
    }
   ],
   "source": [
    "prediction = get_prediction(validate_x)\n",
    "\n",
    "print(prediction)"
   ]
  }
 ],
 "metadata": {
  "kernelspec": {
   "display_name": "Python 3",
   "language": "python",
   "name": "python3"
  },
  "language_info": {
   "codemirror_mode": {
    "name": "ipython",
    "version": 3
   },
   "file_extension": ".py",
   "mimetype": "text/x-python",
   "name": "python",
   "nbconvert_exporter": "python",
   "pygments_lexer": "ipython3",
   "version": "3.7.7"
  }
 },
 "nbformat": 4,
 "nbformat_minor": 4
}
